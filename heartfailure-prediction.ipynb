{
 "cells": [
  {
   "cell_type": "code",
   "execution_count": 1,
   "id": "8c42a78f",
   "metadata": {
    "_cell_guid": "b1076dfc-b9ad-4769-8c92-a6c4dae69d19",
    "_uuid": "8f2839f25d086af736a60e9eeb907d3b93b6e0e5",
    "execution": {
     "iopub.execute_input": "2024-03-08T10:03:50.185387Z",
     "iopub.status.busy": "2024-03-08T10:03:50.184691Z",
     "iopub.status.idle": "2024-03-08T10:03:51.245424Z",
     "shell.execute_reply": "2024-03-08T10:03:51.243353Z"
    },
    "papermill": {
     "duration": 1.078982,
     "end_time": "2024-03-08T10:03:51.248579",
     "exception": false,
     "start_time": "2024-03-08T10:03:50.169597",
     "status": "completed"
    },
    "tags": []
   },
   "outputs": [
    {
     "name": "stdout",
     "output_type": "stream",
     "text": [
      "/kaggle/input/heart-failure-prediction/heart.csv\n"
     ]
    }
   ],
   "source": [
    "# This Python 3 environment comes with many helpful analytics libraries installed\n",
    "# It is defined by the kaggle/python Docker image: https://github.com/kaggle/docker-python\n",
    "# For example, here's several helpful packages to load\n",
    "\n",
    "import numpy as np # linear algebra\n",
    "import pandas as pd # data processing, CSV file I/O (e.g. pd.read_csv)\n",
    "\n",
    "# Input data files are available in the read-only \"../input/\" directory\n",
    "# For example, running this (by clicking run or pressing Shift+Enter) will list all files under the input directory\n",
    "\n",
    "import os\n",
    "for dirname, _, filenames in os.walk('/kaggle/input'):\n",
    "    for filename in filenames:\n",
    "        print(os.path.join(dirname, filename))\n",
    "\n",
    "# You can write up to 20GB to the current directory (/kaggle/working/) that gets preserved as output when you create a version using \"Save & Run All\" \n",
    "# You can also write temporary files to /kaggle/temp/, but they won't be saved outside of the current session"
   ]
  },
  {
   "cell_type": "code",
   "execution_count": 2,
   "id": "5a0f2dc6",
   "metadata": {
    "execution": {
     "iopub.execute_input": "2024-03-08T10:03:51.276275Z",
     "iopub.status.busy": "2024-03-08T10:03:51.275649Z",
     "iopub.status.idle": "2024-03-08T10:03:53.702559Z",
     "shell.execute_reply": "2024-03-08T10:03:53.701580Z"
    },
    "papermill": {
     "duration": 2.444147,
     "end_time": "2024-03-08T10:03:53.705439",
     "exception": false,
     "start_time": "2024-03-08T10:03:51.261292",
     "status": "completed"
    },
    "tags": []
   },
   "outputs": [],
   "source": [
    "from sklearn.preprocessing import LabelEncoder,StandardScaler\n",
    "from sklearn.model_selection import train_test_split\n",
    "from sklearn.tree import DecisionTreeClassifier\n",
    "from sklearn.ensemble import RandomForestClassifier\n",
    "from sklearn.metrics import classification_report,confusion_matrix\n",
    "import matplotlib.pyplot\n",
    "import seaborn as sns"
   ]
  },
  {
   "cell_type": "code",
   "execution_count": 3,
   "id": "368e42a1",
   "metadata": {
    "execution": {
     "iopub.execute_input": "2024-03-08T10:03:53.733989Z",
     "iopub.status.busy": "2024-03-08T10:03:53.732747Z",
     "iopub.status.idle": "2024-03-08T10:03:53.758069Z",
     "shell.execute_reply": "2024-03-08T10:03:53.756885Z"
    },
    "papermill": {
     "duration": 0.042934,
     "end_time": "2024-03-08T10:03:53.761305",
     "exception": false,
     "start_time": "2024-03-08T10:03:53.718371",
     "status": "completed"
    },
    "tags": []
   },
   "outputs": [],
   "source": [
    "train = pd.read_csv(\"/kaggle/input/heart-failure-prediction/heart.csv\")"
   ]
  },
  {
   "cell_type": "markdown",
   "id": "c194fac8",
   "metadata": {
    "papermill": {
     "duration": 0.012279,
     "end_time": "2024-03-08T10:03:53.786530",
     "exception": false,
     "start_time": "2024-03-08T10:03:53.774251",
     "status": "completed"
    },
    "tags": []
   },
   "source": [
    "### Create a copy of Dataset"
   ]
  },
  {
   "cell_type": "code",
   "execution_count": 4,
   "id": "b5702c65",
   "metadata": {
    "execution": {
     "iopub.execute_input": "2024-03-08T10:03:53.817018Z",
     "iopub.status.busy": "2024-03-08T10:03:53.816239Z",
     "iopub.status.idle": "2024-03-08T10:03:53.821273Z",
     "shell.execute_reply": "2024-03-08T10:03:53.820182Z"
    },
    "papermill": {
     "duration": 0.023611,
     "end_time": "2024-03-08T10:03:53.824026",
     "exception": false,
     "start_time": "2024-03-08T10:03:53.800415",
     "status": "completed"
    },
    "tags": []
   },
   "outputs": [],
   "source": [
    "train1 = train.copy()"
   ]
  },
  {
   "cell_type": "code",
   "execution_count": 5,
   "id": "bab3182f",
   "metadata": {
    "execution": {
     "iopub.execute_input": "2024-03-08T10:03:53.851473Z",
     "iopub.status.busy": "2024-03-08T10:03:53.851019Z",
     "iopub.status.idle": "2024-03-08T10:03:53.876424Z",
     "shell.execute_reply": "2024-03-08T10:03:53.875212Z"
    },
    "papermill": {
     "duration": 0.042183,
     "end_time": "2024-03-08T10:03:53.879017",
     "exception": false,
     "start_time": "2024-03-08T10:03:53.836834",
     "status": "completed"
    },
    "tags": []
   },
   "outputs": [
    {
     "data": {
      "text/html": [
       "<div>\n",
       "<style scoped>\n",
       "    .dataframe tbody tr th:only-of-type {\n",
       "        vertical-align: middle;\n",
       "    }\n",
       "\n",
       "    .dataframe tbody tr th {\n",
       "        vertical-align: top;\n",
       "    }\n",
       "\n",
       "    .dataframe thead th {\n",
       "        text-align: right;\n",
       "    }\n",
       "</style>\n",
       "<table border=\"1\" class=\"dataframe\">\n",
       "  <thead>\n",
       "    <tr style=\"text-align: right;\">\n",
       "      <th></th>\n",
       "      <th>Age</th>\n",
       "      <th>Sex</th>\n",
       "      <th>ChestPainType</th>\n",
       "      <th>RestingBP</th>\n",
       "      <th>Cholesterol</th>\n",
       "      <th>FastingBS</th>\n",
       "      <th>RestingECG</th>\n",
       "      <th>MaxHR</th>\n",
       "      <th>ExerciseAngina</th>\n",
       "      <th>Oldpeak</th>\n",
       "      <th>ST_Slope</th>\n",
       "      <th>HeartDisease</th>\n",
       "    </tr>\n",
       "  </thead>\n",
       "  <tbody>\n",
       "    <tr>\n",
       "      <th>0</th>\n",
       "      <td>40</td>\n",
       "      <td>M</td>\n",
       "      <td>ATA</td>\n",
       "      <td>140</td>\n",
       "      <td>289</td>\n",
       "      <td>0</td>\n",
       "      <td>Normal</td>\n",
       "      <td>172</td>\n",
       "      <td>N</td>\n",
       "      <td>0.0</td>\n",
       "      <td>Up</td>\n",
       "      <td>0</td>\n",
       "    </tr>\n",
       "    <tr>\n",
       "      <th>1</th>\n",
       "      <td>49</td>\n",
       "      <td>F</td>\n",
       "      <td>NAP</td>\n",
       "      <td>160</td>\n",
       "      <td>180</td>\n",
       "      <td>0</td>\n",
       "      <td>Normal</td>\n",
       "      <td>156</td>\n",
       "      <td>N</td>\n",
       "      <td>1.0</td>\n",
       "      <td>Flat</td>\n",
       "      <td>1</td>\n",
       "    </tr>\n",
       "    <tr>\n",
       "      <th>2</th>\n",
       "      <td>37</td>\n",
       "      <td>M</td>\n",
       "      <td>ATA</td>\n",
       "      <td>130</td>\n",
       "      <td>283</td>\n",
       "      <td>0</td>\n",
       "      <td>ST</td>\n",
       "      <td>98</td>\n",
       "      <td>N</td>\n",
       "      <td>0.0</td>\n",
       "      <td>Up</td>\n",
       "      <td>0</td>\n",
       "    </tr>\n",
       "    <tr>\n",
       "      <th>3</th>\n",
       "      <td>48</td>\n",
       "      <td>F</td>\n",
       "      <td>ASY</td>\n",
       "      <td>138</td>\n",
       "      <td>214</td>\n",
       "      <td>0</td>\n",
       "      <td>Normal</td>\n",
       "      <td>108</td>\n",
       "      <td>Y</td>\n",
       "      <td>1.5</td>\n",
       "      <td>Flat</td>\n",
       "      <td>1</td>\n",
       "    </tr>\n",
       "    <tr>\n",
       "      <th>4</th>\n",
       "      <td>54</td>\n",
       "      <td>M</td>\n",
       "      <td>NAP</td>\n",
       "      <td>150</td>\n",
       "      <td>195</td>\n",
       "      <td>0</td>\n",
       "      <td>Normal</td>\n",
       "      <td>122</td>\n",
       "      <td>N</td>\n",
       "      <td>0.0</td>\n",
       "      <td>Up</td>\n",
       "      <td>0</td>\n",
       "    </tr>\n",
       "  </tbody>\n",
       "</table>\n",
       "</div>"
      ],
      "text/plain": [
       "   Age Sex ChestPainType  RestingBP  Cholesterol  FastingBS RestingECG  MaxHR  \\\n",
       "0   40   M           ATA        140          289          0     Normal    172   \n",
       "1   49   F           NAP        160          180          0     Normal    156   \n",
       "2   37   M           ATA        130          283          0         ST     98   \n",
       "3   48   F           ASY        138          214          0     Normal    108   \n",
       "4   54   M           NAP        150          195          0     Normal    122   \n",
       "\n",
       "  ExerciseAngina  Oldpeak ST_Slope  HeartDisease  \n",
       "0              N      0.0       Up             0  \n",
       "1              N      1.0     Flat             1  \n",
       "2              N      0.0       Up             0  \n",
       "3              Y      1.5     Flat             1  \n",
       "4              N      0.0       Up             0  "
      ]
     },
     "execution_count": 5,
     "metadata": {},
     "output_type": "execute_result"
    }
   ],
   "source": [
    "train.head()"
   ]
  },
  {
   "cell_type": "code",
   "execution_count": 6,
   "id": "30183a28",
   "metadata": {
    "execution": {
     "iopub.execute_input": "2024-03-08T10:03:53.907816Z",
     "iopub.status.busy": "2024-03-08T10:03:53.907060Z",
     "iopub.status.idle": "2024-03-08T10:03:53.926216Z",
     "shell.execute_reply": "2024-03-08T10:03:53.924861Z"
    },
    "papermill": {
     "duration": 0.036233,
     "end_time": "2024-03-08T10:03:53.928953",
     "exception": false,
     "start_time": "2024-03-08T10:03:53.892720",
     "status": "completed"
    },
    "tags": []
   },
   "outputs": [
    {
     "data": {
      "text/plain": [
       "0      False\n",
       "1      False\n",
       "2      False\n",
       "3      False\n",
       "4      False\n",
       "       ...  \n",
       "913    False\n",
       "914    False\n",
       "915    False\n",
       "916    False\n",
       "917    False\n",
       "Length: 918, dtype: bool"
      ]
     },
     "execution_count": 6,
     "metadata": {},
     "output_type": "execute_result"
    }
   ],
   "source": [
    "train.duplicated()"
   ]
  },
  {
   "cell_type": "code",
   "execution_count": 7,
   "id": "343a363d",
   "metadata": {
    "execution": {
     "iopub.execute_input": "2024-03-08T10:03:53.958554Z",
     "iopub.status.busy": "2024-03-08T10:03:53.957824Z",
     "iopub.status.idle": "2024-03-08T10:03:53.967537Z",
     "shell.execute_reply": "2024-03-08T10:03:53.966576Z"
    },
    "papermill": {
     "duration": 0.02661,
     "end_time": "2024-03-08T10:03:53.969880",
     "exception": false,
     "start_time": "2024-03-08T10:03:53.943270",
     "status": "completed"
    },
    "tags": []
   },
   "outputs": [
    {
     "data": {
      "text/plain": [
       "Age               0\n",
       "Sex               0\n",
       "ChestPainType     0\n",
       "RestingBP         0\n",
       "Cholesterol       0\n",
       "FastingBS         0\n",
       "RestingECG        0\n",
       "MaxHR             0\n",
       "ExerciseAngina    0\n",
       "Oldpeak           0\n",
       "ST_Slope          0\n",
       "HeartDisease      0\n",
       "dtype: int64"
      ]
     },
     "execution_count": 7,
     "metadata": {},
     "output_type": "execute_result"
    }
   ],
   "source": [
    "train.isnull().sum()"
   ]
  },
  {
   "cell_type": "code",
   "execution_count": 8,
   "id": "41dbeda5",
   "metadata": {
    "execution": {
     "iopub.execute_input": "2024-03-08T10:03:53.999058Z",
     "iopub.status.busy": "2024-03-08T10:03:53.998329Z",
     "iopub.status.idle": "2024-03-08T10:03:54.037439Z",
     "shell.execute_reply": "2024-03-08T10:03:54.036308Z"
    },
    "papermill": {
     "duration": 0.056621,
     "end_time": "2024-03-08T10:03:54.039869",
     "exception": false,
     "start_time": "2024-03-08T10:03:53.983248",
     "status": "completed"
    },
    "tags": []
   },
   "outputs": [
    {
     "data": {
      "text/html": [
       "<div>\n",
       "<style scoped>\n",
       "    .dataframe tbody tr th:only-of-type {\n",
       "        vertical-align: middle;\n",
       "    }\n",
       "\n",
       "    .dataframe tbody tr th {\n",
       "        vertical-align: top;\n",
       "    }\n",
       "\n",
       "    .dataframe thead th {\n",
       "        text-align: right;\n",
       "    }\n",
       "</style>\n",
       "<table border=\"1\" class=\"dataframe\">\n",
       "  <thead>\n",
       "    <tr style=\"text-align: right;\">\n",
       "      <th></th>\n",
       "      <th>count</th>\n",
       "      <th>mean</th>\n",
       "      <th>std</th>\n",
       "      <th>min</th>\n",
       "      <th>25%</th>\n",
       "      <th>50%</th>\n",
       "      <th>75%</th>\n",
       "      <th>max</th>\n",
       "    </tr>\n",
       "  </thead>\n",
       "  <tbody>\n",
       "    <tr>\n",
       "      <th>Age</th>\n",
       "      <td>918.0</td>\n",
       "      <td>53.510893</td>\n",
       "      <td>9.432617</td>\n",
       "      <td>28.0</td>\n",
       "      <td>47.00</td>\n",
       "      <td>54.0</td>\n",
       "      <td>60.0</td>\n",
       "      <td>77.0</td>\n",
       "    </tr>\n",
       "    <tr>\n",
       "      <th>RestingBP</th>\n",
       "      <td>918.0</td>\n",
       "      <td>132.396514</td>\n",
       "      <td>18.514154</td>\n",
       "      <td>0.0</td>\n",
       "      <td>120.00</td>\n",
       "      <td>130.0</td>\n",
       "      <td>140.0</td>\n",
       "      <td>200.0</td>\n",
       "    </tr>\n",
       "    <tr>\n",
       "      <th>Cholesterol</th>\n",
       "      <td>918.0</td>\n",
       "      <td>198.799564</td>\n",
       "      <td>109.384145</td>\n",
       "      <td>0.0</td>\n",
       "      <td>173.25</td>\n",
       "      <td>223.0</td>\n",
       "      <td>267.0</td>\n",
       "      <td>603.0</td>\n",
       "    </tr>\n",
       "    <tr>\n",
       "      <th>FastingBS</th>\n",
       "      <td>918.0</td>\n",
       "      <td>0.233115</td>\n",
       "      <td>0.423046</td>\n",
       "      <td>0.0</td>\n",
       "      <td>0.00</td>\n",
       "      <td>0.0</td>\n",
       "      <td>0.0</td>\n",
       "      <td>1.0</td>\n",
       "    </tr>\n",
       "    <tr>\n",
       "      <th>MaxHR</th>\n",
       "      <td>918.0</td>\n",
       "      <td>136.809368</td>\n",
       "      <td>25.460334</td>\n",
       "      <td>60.0</td>\n",
       "      <td>120.00</td>\n",
       "      <td>138.0</td>\n",
       "      <td>156.0</td>\n",
       "      <td>202.0</td>\n",
       "    </tr>\n",
       "    <tr>\n",
       "      <th>Oldpeak</th>\n",
       "      <td>918.0</td>\n",
       "      <td>0.887364</td>\n",
       "      <td>1.066570</td>\n",
       "      <td>-2.6</td>\n",
       "      <td>0.00</td>\n",
       "      <td>0.6</td>\n",
       "      <td>1.5</td>\n",
       "      <td>6.2</td>\n",
       "    </tr>\n",
       "    <tr>\n",
       "      <th>HeartDisease</th>\n",
       "      <td>918.0</td>\n",
       "      <td>0.553377</td>\n",
       "      <td>0.497414</td>\n",
       "      <td>0.0</td>\n",
       "      <td>0.00</td>\n",
       "      <td>1.0</td>\n",
       "      <td>1.0</td>\n",
       "      <td>1.0</td>\n",
       "    </tr>\n",
       "  </tbody>\n",
       "</table>\n",
       "</div>"
      ],
      "text/plain": [
       "              count        mean         std   min     25%    50%    75%    max\n",
       "Age           918.0   53.510893    9.432617  28.0   47.00   54.0   60.0   77.0\n",
       "RestingBP     918.0  132.396514   18.514154   0.0  120.00  130.0  140.0  200.0\n",
       "Cholesterol   918.0  198.799564  109.384145   0.0  173.25  223.0  267.0  603.0\n",
       "FastingBS     918.0    0.233115    0.423046   0.0    0.00    0.0    0.0    1.0\n",
       "MaxHR         918.0  136.809368   25.460334  60.0  120.00  138.0  156.0  202.0\n",
       "Oldpeak       918.0    0.887364    1.066570  -2.6    0.00    0.6    1.5    6.2\n",
       "HeartDisease  918.0    0.553377    0.497414   0.0    0.00    1.0    1.0    1.0"
      ]
     },
     "execution_count": 8,
     "metadata": {},
     "output_type": "execute_result"
    }
   ],
   "source": [
    "train.describe().T"
   ]
  },
  {
   "cell_type": "code",
   "execution_count": 9,
   "id": "34635e91",
   "metadata": {
    "execution": {
     "iopub.execute_input": "2024-03-08T10:03:54.068948Z",
     "iopub.status.busy": "2024-03-08T10:03:54.068527Z",
     "iopub.status.idle": "2024-03-08T10:03:54.095457Z",
     "shell.execute_reply": "2024-03-08T10:03:54.094387Z"
    },
    "papermill": {
     "duration": 0.044931,
     "end_time": "2024-03-08T10:03:54.098417",
     "exception": false,
     "start_time": "2024-03-08T10:03:54.053486",
     "status": "completed"
    },
    "tags": []
   },
   "outputs": [
    {
     "data": {
      "text/html": [
       "<div>\n",
       "<style scoped>\n",
       "    .dataframe tbody tr th:only-of-type {\n",
       "        vertical-align: middle;\n",
       "    }\n",
       "\n",
       "    .dataframe tbody tr th {\n",
       "        vertical-align: top;\n",
       "    }\n",
       "\n",
       "    .dataframe thead th {\n",
       "        text-align: right;\n",
       "    }\n",
       "</style>\n",
       "<table border=\"1\" class=\"dataframe\">\n",
       "  <thead>\n",
       "    <tr style=\"text-align: right;\">\n",
       "      <th></th>\n",
       "      <th>count</th>\n",
       "      <th>unique</th>\n",
       "      <th>top</th>\n",
       "      <th>freq</th>\n",
       "    </tr>\n",
       "  </thead>\n",
       "  <tbody>\n",
       "    <tr>\n",
       "      <th>Sex</th>\n",
       "      <td>918</td>\n",
       "      <td>2</td>\n",
       "      <td>M</td>\n",
       "      <td>725</td>\n",
       "    </tr>\n",
       "    <tr>\n",
       "      <th>ChestPainType</th>\n",
       "      <td>918</td>\n",
       "      <td>4</td>\n",
       "      <td>ASY</td>\n",
       "      <td>496</td>\n",
       "    </tr>\n",
       "    <tr>\n",
       "      <th>RestingECG</th>\n",
       "      <td>918</td>\n",
       "      <td>3</td>\n",
       "      <td>Normal</td>\n",
       "      <td>552</td>\n",
       "    </tr>\n",
       "    <tr>\n",
       "      <th>ExerciseAngina</th>\n",
       "      <td>918</td>\n",
       "      <td>2</td>\n",
       "      <td>N</td>\n",
       "      <td>547</td>\n",
       "    </tr>\n",
       "    <tr>\n",
       "      <th>ST_Slope</th>\n",
       "      <td>918</td>\n",
       "      <td>3</td>\n",
       "      <td>Flat</td>\n",
       "      <td>460</td>\n",
       "    </tr>\n",
       "  </tbody>\n",
       "</table>\n",
       "</div>"
      ],
      "text/plain": [
       "               count unique     top freq\n",
       "Sex              918      2       M  725\n",
       "ChestPainType    918      4     ASY  496\n",
       "RestingECG       918      3  Normal  552\n",
       "ExerciseAngina   918      2       N  547\n",
       "ST_Slope         918      3    Flat  460"
      ]
     },
     "execution_count": 9,
     "metadata": {},
     "output_type": "execute_result"
    }
   ],
   "source": [
    "train.describe(include = 'object').T"
   ]
  },
  {
   "cell_type": "markdown",
   "id": "ec2f7d88",
   "metadata": {
    "papermill": {
     "duration": 0.013436,
     "end_time": "2024-03-08T10:03:54.125773",
     "exception": false,
     "start_time": "2024-03-08T10:03:54.112337",
     "status": "completed"
    },
    "tags": []
   },
   "source": [
    "#### EDA\n",
    "\n",
    "## Univariate Data Analysis"
   ]
  },
  {
   "cell_type": "code",
   "execution_count": 10,
   "id": "f212215c",
   "metadata": {
    "execution": {
     "iopub.execute_input": "2024-03-08T10:03:54.155874Z",
     "iopub.status.busy": "2024-03-08T10:03:54.155163Z",
     "iopub.status.idle": "2024-03-08T10:03:54.446392Z",
     "shell.execute_reply": "2024-03-08T10:03:54.445342Z"
    },
    "papermill": {
     "duration": 0.309374,
     "end_time": "2024-03-08T10:03:54.449150",
     "exception": false,
     "start_time": "2024-03-08T10:03:54.139776",
     "status": "completed"
    },
    "tags": []
   },
   "outputs": [
    {
     "data": {
      "text/plain": [
       "<Axes: xlabel='Sex', ylabel='count'>"
      ]
     },
     "execution_count": 10,
     "metadata": {},
     "output_type": "execute_result"
    },
    {
     "data": {
      "image/png": "[encoded data removed]",
      "text/plain": [
       "<Figure size 640x480 with 1 Axes>"
      ]
     },
     "metadata": {},
     "output_type": "display_data"
    }
   ],
   "source": [
    "## plotting sex\n",
    "sns.countplot (data = train, x = 'Sex')"
   ]
  },
  {
   "cell_type": "code",
   "execution_count": 11,
   "id": "0234bf3d",
   "metadata": {
    "execution": {
     "iopub.execute_input": "2024-03-08T10:03:54.480248Z",
     "iopub.status.busy": "2024-03-08T10:03:54.479202Z",
     "iopub.status.idle": "2024-03-08T10:03:54.735131Z",
     "shell.execute_reply": "2024-03-08T10:03:54.733861Z"
    },
    "papermill": {
     "duration": 0.274525,
     "end_time": "2024-03-08T10:03:54.737919",
     "exception": false,
     "start_time": "2024-03-08T10:03:54.463394",
     "status": "completed"
    },
    "tags": []
   },
   "outputs": [
    {
     "data": {
      "text/plain": [
       "<Axes: xlabel='ChestPainType', ylabel='count'>"
      ]
     },
     "execution_count": 11,
     "metadata": {},
     "output_type": "execute_result"
    },
    {
     "data": {
      "image/png": "[encoded data removed]",
      "text/plain": [
       "<Figure size 640x480 with 1 Axes>"
      ]
     },
     "metadata": {},
     "output_type": "display_data"
    }
   ],
   "source": [
    "## plotting \n",
    "sns.countplot (data = train, x = 'ChestPainType')\n"
   ]
  },
  {
   "cell_type": "code",
   "execution_count": 12,
   "id": "763c8e5c",
   "metadata": {
    "execution": {
     "iopub.execute_input": "2024-03-08T10:03:54.769229Z",
     "iopub.status.busy": "2024-03-08T10:03:54.768805Z",
     "iopub.status.idle": "2024-03-08T10:03:55.000954Z",
     "shell.execute_reply": "2024-03-08T10:03:54.999856Z"
    },
    "papermill": {
     "duration": 0.251257,
     "end_time": "2024-03-08T10:03:55.003653",
     "exception": false,
     "start_time": "2024-03-08T10:03:54.752396",
     "status": "completed"
    },
    "tags": []
   },
   "outputs": [
    {
     "data": {
      "text/plain": [
       "<Axes: xlabel='ExerciseAngina', ylabel='count'>"
      ]
     },
     "execution_count": 12,
     "metadata": {},
     "output_type": "execute_result"
    },
    {
     "data": {
      "image/png": "[encoded data removed]",
      "text/plain": [
       "<Figure size 640x480 with 1 Axes>"
      ]
     },
     "metadata": {},
     "output_type": "display_data"
    }
   ],
   "source": [
    "sns.countplot (data = train, x = 'ExerciseAngina')"
   ]
  },
  {
   "cell_type": "code",
   "execution_count": 13,
   "id": "b919bb2a",
   "metadata": {
    "execution": {
     "iopub.execute_input": "2024-03-08T10:03:55.036093Z",
     "iopub.status.busy": "2024-03-08T10:03:55.035706Z",
     "iopub.status.idle": "2024-03-08T10:03:55.268469Z",
     "shell.execute_reply": "2024-03-08T10:03:55.267173Z"
    },
    "papermill": {
     "duration": 0.253093,
     "end_time": "2024-03-08T10:03:55.272094",
     "exception": false,
     "start_time": "2024-03-08T10:03:55.019001",
     "status": "completed"
    },
    "tags": []
   },
   "outputs": [
    {
     "data": {
      "text/plain": [
       "<Axes: xlabel='RestingECG', ylabel='count'>"
      ]
     },
     "execution_count": 13,
     "metadata": {},
     "output_type": "execute_result"
    },
    {
     "data": {
      "image/png": "[encoded data removed]",
      "text/plain": [
       "<Figure size 640x480 with 1 Axes>"
      ]
     },
     "metadata": {},
     "output_type": "display_data"
    }
   ],
   "source": [
    "sns.countplot (data = train, x = 'RestingECG')"
   ]
  },
  {
   "cell_type": "code",
   "execution_count": 14,
   "id": "e3da5329",
   "metadata": {
    "execution": {
     "iopub.execute_input": "2024-03-08T10:03:55.308734Z",
     "iopub.status.busy": "2024-03-08T10:03:55.307871Z",
     "iopub.status.idle": "2024-03-08T10:03:55.697220Z",
     "shell.execute_reply": "2024-03-08T10:03:55.696075Z"
    },
    "papermill": {
     "duration": 0.410994,
     "end_time": "2024-03-08T10:03:55.700082",
     "exception": false,
     "start_time": "2024-03-08T10:03:55.289088",
     "status": "completed"
    },
    "tags": []
   },
   "outputs": [
    {
     "name": "stderr",
     "output_type": "stream",
     "text": [
      "/opt/conda/lib/python3.10/site-packages/seaborn/_oldcore.py:1119: FutureWarning: use_inf_as_na option is deprecated and will be removed in a future version. Convert inf values to NaN before operating instead.\n",
      "  with pd.option_context('mode.use_inf_as_na', True):\n"
     ]
    },
    {
     "data": {
      "text/plain": [
       "<Axes: xlabel='Age', ylabel='Count'>"
      ]
     },
     "execution_count": 14,
     "metadata": {},
     "output_type": "execute_result"
    },
    {
     "data": {
      "image/png": "[encoded data removed]",
      "text/plain": [
       "<Figure size 640x480 with 1 Axes>"
      ]
     },
     "metadata": {},
     "output_type": "display_data"
    }
   ],
   "source": [
    "sns.histplot(data = train ,x = 'Age',kde = True)"
   ]
  },
  {
   "cell_type": "code",
   "execution_count": 15,
   "id": "b5a18be1",
   "metadata": {
    "execution": {
     "iopub.execute_input": "2024-03-08T10:03:55.737064Z",
     "iopub.status.busy": "2024-03-08T10:03:55.736226Z",
     "iopub.status.idle": "2024-03-08T10:03:56.191590Z",
     "shell.execute_reply": "2024-03-08T10:03:56.189971Z"
    },
    "papermill": {
     "duration": 0.477099,
     "end_time": "2024-03-08T10:03:56.194578",
     "exception": false,
     "start_time": "2024-03-08T10:03:55.717479",
     "status": "completed"
    },
    "tags": []
   },
   "outputs": [
    {
     "name": "stderr",
     "output_type": "stream",
     "text": [
      "/opt/conda/lib/python3.10/site-packages/seaborn/_oldcore.py:1119: FutureWarning: use_inf_as_na option is deprecated and will be removed in a future version. Convert inf values to NaN before operating instead.\n",
      "  with pd.option_context('mode.use_inf_as_na', True):\n"
     ]
    },
    {
     "data": {
      "text/plain": [
       "<Axes: xlabel='Oldpeak', ylabel='Count'>"
      ]
     },
     "execution_count": 15,
     "metadata": {},
     "output_type": "execute_result"
    },
    {
     "data": {
      "image/png": "[encoded data removed]",
      "text/plain": [
       "<Figure size 640x480 with 1 Axes>"
      ]
     },
     "metadata": {},
     "output_type": "display_data"
    }
   ],
   "source": [
    "sns.histplot(data = train ,x = 'Oldpeak',kde = True)"
   ]
  },
  {
   "cell_type": "code",
   "execution_count": 16,
   "id": "86519d5a",
   "metadata": {
    "execution": {
     "iopub.execute_input": "2024-03-08T10:03:56.234141Z",
     "iopub.status.busy": "2024-03-08T10:03:56.233674Z",
     "iopub.status.idle": "2024-03-08T10:03:56.628895Z",
     "shell.execute_reply": "2024-03-08T10:03:56.627532Z"
    },
    "papermill": {
     "duration": 0.418893,
     "end_time": "2024-03-08T10:03:56.632347",
     "exception": false,
     "start_time": "2024-03-08T10:03:56.213454",
     "status": "completed"
    },
    "tags": []
   },
   "outputs": [
    {
     "name": "stderr",
     "output_type": "stream",
     "text": [
      "/opt/conda/lib/python3.10/site-packages/seaborn/_oldcore.py:1119: FutureWarning: use_inf_as_na option is deprecated and will be removed in a future version. Convert inf values to NaN before operating instead.\n",
      "  with pd.option_context('mode.use_inf_as_na', True):\n"
     ]
    },
    {
     "data": {
      "text/plain": [
       "<Axes: xlabel='HeartDisease', ylabel='Count'>"
      ]
     },
     "execution_count": 16,
     "metadata": {},
     "output_type": "execute_result"
    },
    {
     "data": {
      "image/png": "[encoded data removed]",
      "text/plain": [
       "<Figure size 640x480 with 1 Axes>"
      ]
     },
     "metadata": {},
     "output_type": "display_data"
    }
   ],
   "source": [
    "sns.histplot(data = train ,x = 'HeartDisease',kde = True)"
   ]
  },
  {
   "cell_type": "code",
   "execution_count": 17,
   "id": "7540a4d5",
   "metadata": {
    "execution": {
     "iopub.execute_input": "2024-03-08T10:03:56.671015Z",
     "iopub.status.busy": "2024-03-08T10:03:56.670046Z",
     "iopub.status.idle": "2024-03-08T10:03:57.043306Z",
     "shell.execute_reply": "2024-03-08T10:03:57.042054Z"
    },
    "papermill": {
     "duration": 0.395581,
     "end_time": "2024-03-08T10:03:57.046289",
     "exception": false,
     "start_time": "2024-03-08T10:03:56.650708",
     "status": "completed"
    },
    "tags": []
   },
   "outputs": [
    {
     "name": "stderr",
     "output_type": "stream",
     "text": [
      "/opt/conda/lib/python3.10/site-packages/seaborn/_oldcore.py:1119: FutureWarning: use_inf_as_na option is deprecated and will be removed in a future version. Convert inf values to NaN before operating instead.\n",
      "  with pd.option_context('mode.use_inf_as_na', True):\n"
     ]
    },
    {
     "data": {
      "text/plain": [
       "<Axes: xlabel='MaxHR', ylabel='Count'>"
      ]
     },
     "execution_count": 17,
     "metadata": {},
     "output_type": "execute_result"
    },
    {
     "data": {
      "image/png": "[encoded data removed]",
      "text/plain": [
       "<Figure size 640x480 with 1 Axes>"
      ]
     },
     "metadata": {},
     "output_type": "display_data"
    }
   ],
   "source": [
    "sns.histplot(data = train ,x = 'MaxHR',kde = True)"
   ]
  },
  {
   "cell_type": "markdown",
   "id": "6039b0bb",
   "metadata": {
    "papermill": {
     "duration": 0.018187,
     "end_time": "2024-03-08T10:03:57.082988",
     "exception": false,
     "start_time": "2024-03-08T10:03:57.064801",
     "status": "completed"
    },
    "tags": []
   },
   "source": [
    "##### *BIVARIATE ANALYSIS*"
   ]
  },
  {
   "cell_type": "code",
   "execution_count": 18,
   "id": "ba03b455",
   "metadata": {
    "execution": {
     "iopub.execute_input": "2024-03-08T10:03:57.123661Z",
     "iopub.status.busy": "2024-03-08T10:03:57.122496Z",
     "iopub.status.idle": "2024-03-08T10:03:57.566084Z",
     "shell.execute_reply": "2024-03-08T10:03:57.565181Z"
    },
    "papermill": {
     "duration": 0.466233,
     "end_time": "2024-03-08T10:03:57.568587",
     "exception": false,
     "start_time": "2024-03-08T10:03:57.102354",
     "status": "completed"
    },
    "tags": []
   },
   "outputs": [
    {
     "data": {
      "text/plain": [
       "<Axes: xlabel='Sex', ylabel='Age'>"
      ]
     },
     "execution_count": 18,
     "metadata": {},
     "output_type": "execute_result"
    },
    {
     "data": {
      "image/png": "[encoded data removed]",
      "text/plain": [
       "<Figure size 640x480 with 1 Axes>"
      ]
     },
     "metadata": {},
     "output_type": "display_data"
    }
   ],
   "source": [
    "sns.boxplot(data = train, x = 'Sex' ,y = 'Age',hue = 'HeartDisease')"
   ]
  },
  {
   "cell_type": "code",
   "execution_count": 19,
   "id": "9911298a",
   "metadata": {
    "execution": {
     "iopub.execute_input": "2024-03-08T10:03:57.610432Z",
     "iopub.status.busy": "2024-03-08T10:03:57.608937Z",
     "iopub.status.idle": "2024-03-08T10:03:58.092824Z",
     "shell.execute_reply": "2024-03-08T10:03:58.091913Z"
    },
    "papermill": {
     "duration": 0.507131,
     "end_time": "2024-03-08T10:03:58.095009",
     "exception": false,
     "start_time": "2024-03-08T10:03:57.587878",
     "status": "completed"
    },
    "tags": []
   },
   "outputs": [
    {
     "data": {
      "text/plain": [
       "<Axes: xlabel='Sex', ylabel='Cholesterol'>"
      ]
     },
     "execution_count": 19,
     "metadata": {},
     "output_type": "execute_result"
    },
    {
     "data": {
      "image/png": "[encoded data removed]",
      "text/plain": [
       "<Figure size 640x480 with 1 Axes>"
      ]
     },
     "metadata": {},
     "output_type": "display_data"
    }
   ],
   "source": [
    "sns.violinplot(data = train, x = 'Sex' ,y = 'Cholesterol',hue = 'HeartDisease')"
   ]
  },
  {
   "cell_type": "markdown",
   "id": "77974a88",
   "metadata": {
    "papermill": {
     "duration": 0.019263,
     "end_time": "2024-03-08T10:03:58.133774",
     "exception": false,
     "start_time": "2024-03-08T10:03:58.114511",
     "status": "completed"
    },
    "tags": []
   },
   "source": [
    "#### Feature engineering"
   ]
  },
  {
   "cell_type": "code",
   "execution_count": 20,
   "id": "7163d5b4",
   "metadata": {
    "execution": {
     "iopub.execute_input": "2024-03-08T10:03:58.176895Z",
     "iopub.status.busy": "2024-03-08T10:03:58.175502Z",
     "iopub.status.idle": "2024-03-08T10:03:58.193476Z",
     "shell.execute_reply": "2024-03-08T10:03:58.192321Z"
    },
    "papermill": {
     "duration": 0.042703,
     "end_time": "2024-03-08T10:03:58.195805",
     "exception": false,
     "start_time": "2024-03-08T10:03:58.153102",
     "status": "completed"
    },
    "tags": []
   },
   "outputs": [
    {
     "data": {
      "text/html": [
       "<div>\n",
       "<style scoped>\n",
       "    .dataframe tbody tr th:only-of-type {\n",
       "        vertical-align: middle;\n",
       "    }\n",
       "\n",
       "    .dataframe tbody tr th {\n",
       "        vertical-align: top;\n",
       "    }\n",
       "\n",
       "    .dataframe thead th {\n",
       "        text-align: right;\n",
       "    }\n",
       "</style>\n",
       "<table border=\"1\" class=\"dataframe\">\n",
       "  <thead>\n",
       "    <tr style=\"text-align: right;\">\n",
       "      <th></th>\n",
       "      <th>Age</th>\n",
       "      <th>Sex</th>\n",
       "      <th>ChestPainType</th>\n",
       "      <th>RestingBP</th>\n",
       "      <th>Cholesterol</th>\n",
       "      <th>FastingBS</th>\n",
       "      <th>RestingECG</th>\n",
       "      <th>MaxHR</th>\n",
       "      <th>ExerciseAngina</th>\n",
       "      <th>Oldpeak</th>\n",
       "      <th>ST_Slope</th>\n",
       "      <th>HeartDisease</th>\n",
       "    </tr>\n",
       "  </thead>\n",
       "  <tbody>\n",
       "    <tr>\n",
       "      <th>0</th>\n",
       "      <td>40</td>\n",
       "      <td>M</td>\n",
       "      <td>ATA</td>\n",
       "      <td>140</td>\n",
       "      <td>289</td>\n",
       "      <td>0</td>\n",
       "      <td>Normal</td>\n",
       "      <td>172</td>\n",
       "      <td>N</td>\n",
       "      <td>0.0</td>\n",
       "      <td>Up</td>\n",
       "      <td>0</td>\n",
       "    </tr>\n",
       "    <tr>\n",
       "      <th>1</th>\n",
       "      <td>49</td>\n",
       "      <td>F</td>\n",
       "      <td>NAP</td>\n",
       "      <td>160</td>\n",
       "      <td>180</td>\n",
       "      <td>0</td>\n",
       "      <td>Normal</td>\n",
       "      <td>156</td>\n",
       "      <td>N</td>\n",
       "      <td>1.0</td>\n",
       "      <td>Flat</td>\n",
       "      <td>1</td>\n",
       "    </tr>\n",
       "    <tr>\n",
       "      <th>2</th>\n",
       "      <td>37</td>\n",
       "      <td>M</td>\n",
       "      <td>ATA</td>\n",
       "      <td>130</td>\n",
       "      <td>283</td>\n",
       "      <td>0</td>\n",
       "      <td>ST</td>\n",
       "      <td>98</td>\n",
       "      <td>N</td>\n",
       "      <td>0.0</td>\n",
       "      <td>Up</td>\n",
       "      <td>0</td>\n",
       "    </tr>\n",
       "    <tr>\n",
       "      <th>3</th>\n",
       "      <td>48</td>\n",
       "      <td>F</td>\n",
       "      <td>ASY</td>\n",
       "      <td>138</td>\n",
       "      <td>214</td>\n",
       "      <td>0</td>\n",
       "      <td>Normal</td>\n",
       "      <td>108</td>\n",
       "      <td>Y</td>\n",
       "      <td>1.5</td>\n",
       "      <td>Flat</td>\n",
       "      <td>1</td>\n",
       "    </tr>\n",
       "    <tr>\n",
       "      <th>4</th>\n",
       "      <td>54</td>\n",
       "      <td>M</td>\n",
       "      <td>NAP</td>\n",
       "      <td>150</td>\n",
       "      <td>195</td>\n",
       "      <td>0</td>\n",
       "      <td>Normal</td>\n",
       "      <td>122</td>\n",
       "      <td>N</td>\n",
       "      <td>0.0</td>\n",
       "      <td>Up</td>\n",
       "      <td>0</td>\n",
       "    </tr>\n",
       "  </tbody>\n",
       "</table>\n",
       "</div>"
      ],
      "text/plain": [
       "   Age Sex ChestPainType  RestingBP  Cholesterol  FastingBS RestingECG  MaxHR  \\\n",
       "0   40   M           ATA        140          289          0     Normal    172   \n",
       "1   49   F           NAP        160          180          0     Normal    156   \n",
       "2   37   M           ATA        130          283          0         ST     98   \n",
       "3   48   F           ASY        138          214          0     Normal    108   \n",
       "4   54   M           NAP        150          195          0     Normal    122   \n",
       "\n",
       "  ExerciseAngina  Oldpeak ST_Slope  HeartDisease  \n",
       "0              N      0.0       Up             0  \n",
       "1              N      1.0     Flat             1  \n",
       "2              N      0.0       Up             0  \n",
       "3              Y      1.5     Flat             1  \n",
       "4              N      0.0       Up             0  "
      ]
     },
     "execution_count": 20,
     "metadata": {},
     "output_type": "execute_result"
    }
   ],
   "source": [
    "train.head()"
   ]
  },
  {
   "cell_type": "code",
   "execution_count": 21,
   "id": "5b1e4155",
   "metadata": {
    "execution": {
     "iopub.execute_input": "2024-03-08T10:03:58.238101Z",
     "iopub.status.busy": "2024-03-08T10:03:58.237642Z",
     "iopub.status.idle": "2024-03-08T10:03:58.257433Z",
     "shell.execute_reply": "2024-03-08T10:03:58.256293Z"
    },
    "papermill": {
     "duration": 0.044309,
     "end_time": "2024-03-08T10:03:58.259718",
     "exception": false,
     "start_time": "2024-03-08T10:03:58.215409",
     "status": "completed"
    },
    "tags": []
   },
   "outputs": [
    {
     "data": {
      "text/html": [
       "<div>\n",
       "<style scoped>\n",
       "    .dataframe tbody tr th:only-of-type {\n",
       "        vertical-align: middle;\n",
       "    }\n",
       "\n",
       "    .dataframe tbody tr th {\n",
       "        vertical-align: top;\n",
       "    }\n",
       "\n",
       "    .dataframe thead th {\n",
       "        text-align: right;\n",
       "    }\n",
       "</style>\n",
       "<table border=\"1\" class=\"dataframe\">\n",
       "  <thead>\n",
       "    <tr style=\"text-align: right;\">\n",
       "      <th></th>\n",
       "      <th>Age</th>\n",
       "      <th>Sex</th>\n",
       "      <th>ChestPainType</th>\n",
       "      <th>RestingBP</th>\n",
       "      <th>Cholesterol</th>\n",
       "      <th>FastingBS</th>\n",
       "      <th>RestingECG</th>\n",
       "      <th>MaxHR</th>\n",
       "      <th>ExerciseAngina</th>\n",
       "      <th>Oldpeak</th>\n",
       "      <th>ST_Slope</th>\n",
       "      <th>HeartDisease</th>\n",
       "    </tr>\n",
       "  </thead>\n",
       "  <tbody>\n",
       "    <tr>\n",
       "      <th>0</th>\n",
       "      <td>40</td>\n",
       "      <td>1</td>\n",
       "      <td>ATA</td>\n",
       "      <td>140</td>\n",
       "      <td>289</td>\n",
       "      <td>0</td>\n",
       "      <td>Normal</td>\n",
       "      <td>172</td>\n",
       "      <td>N</td>\n",
       "      <td>0.0</td>\n",
       "      <td>Up</td>\n",
       "      <td>0</td>\n",
       "    </tr>\n",
       "    <tr>\n",
       "      <th>1</th>\n",
       "      <td>49</td>\n",
       "      <td>0</td>\n",
       "      <td>NAP</td>\n",
       "      <td>160</td>\n",
       "      <td>180</td>\n",
       "      <td>0</td>\n",
       "      <td>Normal</td>\n",
       "      <td>156</td>\n",
       "      <td>N</td>\n",
       "      <td>1.0</td>\n",
       "      <td>Flat</td>\n",
       "      <td>1</td>\n",
       "    </tr>\n",
       "    <tr>\n",
       "      <th>2</th>\n",
       "      <td>37</td>\n",
       "      <td>1</td>\n",
       "      <td>ATA</td>\n",
       "      <td>130</td>\n",
       "      <td>283</td>\n",
       "      <td>0</td>\n",
       "      <td>ST</td>\n",
       "      <td>98</td>\n",
       "      <td>N</td>\n",
       "      <td>0.0</td>\n",
       "      <td>Up</td>\n",
       "      <td>0</td>\n",
       "    </tr>\n",
       "    <tr>\n",
       "      <th>3</th>\n",
       "      <td>48</td>\n",
       "      <td>0</td>\n",
       "      <td>ASY</td>\n",
       "      <td>138</td>\n",
       "      <td>214</td>\n",
       "      <td>0</td>\n",
       "      <td>Normal</td>\n",
       "      <td>108</td>\n",
       "      <td>Y</td>\n",
       "      <td>1.5</td>\n",
       "      <td>Flat</td>\n",
       "      <td>1</td>\n",
       "    </tr>\n",
       "    <tr>\n",
       "      <th>4</th>\n",
       "      <td>54</td>\n",
       "      <td>1</td>\n",
       "      <td>NAP</td>\n",
       "      <td>150</td>\n",
       "      <td>195</td>\n",
       "      <td>0</td>\n",
       "      <td>Normal</td>\n",
       "      <td>122</td>\n",
       "      <td>N</td>\n",
       "      <td>0.0</td>\n",
       "      <td>Up</td>\n",
       "      <td>0</td>\n",
       "    </tr>\n",
       "  </tbody>\n",
       "</table>\n",
       "</div>"
      ],
      "text/plain": [
       "   Age  Sex ChestPainType  RestingBP  Cholesterol  FastingBS RestingECG  \\\n",
       "0   40    1           ATA        140          289          0     Normal   \n",
       "1   49    0           NAP        160          180          0     Normal   \n",
       "2   37    1           ATA        130          283          0         ST   \n",
       "3   48    0           ASY        138          214          0     Normal   \n",
       "4   54    1           NAP        150          195          0     Normal   \n",
       "\n",
       "   MaxHR ExerciseAngina  Oldpeak ST_Slope  HeartDisease  \n",
       "0    172              N      0.0       Up             0  \n",
       "1    156              N      1.0     Flat             1  \n",
       "2     98              N      0.0       Up             0  \n",
       "3    108              Y      1.5     Flat             1  \n",
       "4    122              N      0.0       Up             0  "
      ]
     },
     "execution_count": 21,
     "metadata": {},
     "output_type": "execute_result"
    }
   ],
   "source": [
    "#encoding features\n",
    "\n",
    "le = LabelEncoder()\n",
    "train['Sex'] = le.fit_transform(train['Sex'])\n",
    "train.head()"
   ]
  },
  {
   "cell_type": "code",
   "execution_count": 22,
   "id": "139809a6",
   "metadata": {
    "execution": {
     "iopub.execute_input": "2024-03-08T10:03:58.303030Z",
     "iopub.status.busy": "2024-03-08T10:03:58.302555Z",
     "iopub.status.idle": "2024-03-08T10:03:58.322079Z",
     "shell.execute_reply": "2024-03-08T10:03:58.320763Z"
    },
    "papermill": {
     "duration": 0.044663,
     "end_time": "2024-03-08T10:03:58.324578",
     "exception": false,
     "start_time": "2024-03-08T10:03:58.279915",
     "status": "completed"
    },
    "tags": []
   },
   "outputs": [
    {
     "data": {
      "text/html": [
       "<div>\n",
       "<style scoped>\n",
       "    .dataframe tbody tr th:only-of-type {\n",
       "        vertical-align: middle;\n",
       "    }\n",
       "\n",
       "    .dataframe tbody tr th {\n",
       "        vertical-align: top;\n",
       "    }\n",
       "\n",
       "    .dataframe thead th {\n",
       "        text-align: right;\n",
       "    }\n",
       "</style>\n",
       "<table border=\"1\" class=\"dataframe\">\n",
       "  <thead>\n",
       "    <tr style=\"text-align: right;\">\n",
       "      <th></th>\n",
       "      <th>Age</th>\n",
       "      <th>Sex</th>\n",
       "      <th>ChestPainType</th>\n",
       "      <th>RestingBP</th>\n",
       "      <th>Cholesterol</th>\n",
       "      <th>FastingBS</th>\n",
       "      <th>RestingECG</th>\n",
       "      <th>MaxHR</th>\n",
       "      <th>ExerciseAngina</th>\n",
       "      <th>Oldpeak</th>\n",
       "      <th>ST_Slope</th>\n",
       "      <th>HeartDisease</th>\n",
       "    </tr>\n",
       "  </thead>\n",
       "  <tbody>\n",
       "    <tr>\n",
       "      <th>0</th>\n",
       "      <td>40</td>\n",
       "      <td>1</td>\n",
       "      <td>ATA</td>\n",
       "      <td>140</td>\n",
       "      <td>289</td>\n",
       "      <td>0</td>\n",
       "      <td>Normal</td>\n",
       "      <td>172</td>\n",
       "      <td>0</td>\n",
       "      <td>0.0</td>\n",
       "      <td>Up</td>\n",
       "      <td>0</td>\n",
       "    </tr>\n",
       "    <tr>\n",
       "      <th>1</th>\n",
       "      <td>49</td>\n",
       "      <td>0</td>\n",
       "      <td>NAP</td>\n",
       "      <td>160</td>\n",
       "      <td>180</td>\n",
       "      <td>0</td>\n",
       "      <td>Normal</td>\n",
       "      <td>156</td>\n",
       "      <td>0</td>\n",
       "      <td>1.0</td>\n",
       "      <td>Flat</td>\n",
       "      <td>1</td>\n",
       "    </tr>\n",
       "    <tr>\n",
       "      <th>2</th>\n",
       "      <td>37</td>\n",
       "      <td>1</td>\n",
       "      <td>ATA</td>\n",
       "      <td>130</td>\n",
       "      <td>283</td>\n",
       "      <td>0</td>\n",
       "      <td>ST</td>\n",
       "      <td>98</td>\n",
       "      <td>0</td>\n",
       "      <td>0.0</td>\n",
       "      <td>Up</td>\n",
       "      <td>0</td>\n",
       "    </tr>\n",
       "    <tr>\n",
       "      <th>3</th>\n",
       "      <td>48</td>\n",
       "      <td>0</td>\n",
       "      <td>ASY</td>\n",
       "      <td>138</td>\n",
       "      <td>214</td>\n",
       "      <td>0</td>\n",
       "      <td>Normal</td>\n",
       "      <td>108</td>\n",
       "      <td>1</td>\n",
       "      <td>1.5</td>\n",
       "      <td>Flat</td>\n",
       "      <td>1</td>\n",
       "    </tr>\n",
       "    <tr>\n",
       "      <th>4</th>\n",
       "      <td>54</td>\n",
       "      <td>1</td>\n",
       "      <td>NAP</td>\n",
       "      <td>150</td>\n",
       "      <td>195</td>\n",
       "      <td>0</td>\n",
       "      <td>Normal</td>\n",
       "      <td>122</td>\n",
       "      <td>0</td>\n",
       "      <td>0.0</td>\n",
       "      <td>Up</td>\n",
       "      <td>0</td>\n",
       "    </tr>\n",
       "  </tbody>\n",
       "</table>\n",
       "</div>"
      ],
      "text/plain": [
       "   Age  Sex ChestPainType  RestingBP  Cholesterol  FastingBS RestingECG  \\\n",
       "0   40    1           ATA        140          289          0     Normal   \n",
       "1   49    0           NAP        160          180          0     Normal   \n",
       "2   37    1           ATA        130          283          0         ST   \n",
       "3   48    0           ASY        138          214          0     Normal   \n",
       "4   54    1           NAP        150          195          0     Normal   \n",
       "\n",
       "   MaxHR  ExerciseAngina  Oldpeak ST_Slope  HeartDisease  \n",
       "0    172               0      0.0       Up             0  \n",
       "1    156               0      1.0     Flat             1  \n",
       "2     98               0      0.0       Up             0  \n",
       "3    108               1      1.5     Flat             1  \n",
       "4    122               0      0.0       Up             0  "
      ]
     },
     "execution_count": 22,
     "metadata": {},
     "output_type": "execute_result"
    }
   ],
   "source": [
    "train['ExerciseAngina'] = le.fit_transform(train['ExerciseAngina'])\n",
    "train.head()"
   ]
  },
  {
   "cell_type": "code",
   "execution_count": 23,
   "id": "ae2c1909",
   "metadata": {
    "execution": {
     "iopub.execute_input": "2024-03-08T10:03:58.368749Z",
     "iopub.status.busy": "2024-03-08T10:03:58.368267Z",
     "iopub.status.idle": "2024-03-08T10:03:58.381977Z",
     "shell.execute_reply": "2024-03-08T10:03:58.381011Z"
    },
    "papermill": {
     "duration": 0.038634,
     "end_time": "2024-03-08T10:03:58.384251",
     "exception": false,
     "start_time": "2024-03-08T10:03:58.345617",
     "status": "completed"
    },
    "tags": []
   },
   "outputs": [
    {
     "data": {
      "text/html": [
       "<div>\n",
       "<style scoped>\n",
       "    .dataframe tbody tr th:only-of-type {\n",
       "        vertical-align: middle;\n",
       "    }\n",
       "\n",
       "    .dataframe tbody tr th {\n",
       "        vertical-align: top;\n",
       "    }\n",
       "\n",
       "    .dataframe thead th {\n",
       "        text-align: right;\n",
       "    }\n",
       "</style>\n",
       "<table border=\"1\" class=\"dataframe\">\n",
       "  <thead>\n",
       "    <tr style=\"text-align: right;\">\n",
       "      <th></th>\n",
       "      <th>RestingECG_Normal</th>\n",
       "      <th>RestingECG_ST</th>\n",
       "    </tr>\n",
       "  </thead>\n",
       "  <tbody>\n",
       "    <tr>\n",
       "      <th>0</th>\n",
       "      <td>1</td>\n",
       "      <td>0</td>\n",
       "    </tr>\n",
       "    <tr>\n",
       "      <th>1</th>\n",
       "      <td>1</td>\n",
       "      <td>0</td>\n",
       "    </tr>\n",
       "    <tr>\n",
       "      <th>2</th>\n",
       "      <td>0</td>\n",
       "      <td>1</td>\n",
       "    </tr>\n",
       "    <tr>\n",
       "      <th>3</th>\n",
       "      <td>1</td>\n",
       "      <td>0</td>\n",
       "    </tr>\n",
       "    <tr>\n",
       "      <th>4</th>\n",
       "      <td>1</td>\n",
       "      <td>0</td>\n",
       "    </tr>\n",
       "  </tbody>\n",
       "</table>\n",
       "</div>"
      ],
      "text/plain": [
       "   RestingECG_Normal  RestingECG_ST\n",
       "0                  1              0\n",
       "1                  1              0\n",
       "2                  0              1\n",
       "3                  1              0\n",
       "4                  1              0"
      ]
     },
     "execution_count": 23,
     "metadata": {},
     "output_type": "execute_result"
    }
   ],
   "source": [
    "#one hot encoding\n",
    "restingecg=pd.get_dummies(train['RestingECG'],prefix = 'RestingECG',drop_first = True).astype(int)\n",
    "restingecg.head()"
   ]
  },
  {
   "cell_type": "code",
   "execution_count": 24,
   "id": "36d97a07",
   "metadata": {
    "execution": {
     "iopub.execute_input": "2024-03-08T10:03:58.429869Z",
     "iopub.status.busy": "2024-03-08T10:03:58.429362Z",
     "iopub.status.idle": "2024-03-08T10:03:58.442855Z",
     "shell.execute_reply": "2024-03-08T10:03:58.441406Z"
    },
    "papermill": {
     "duration": 0.039651,
     "end_time": "2024-03-08T10:03:58.445524",
     "exception": false,
     "start_time": "2024-03-08T10:03:58.405873",
     "status": "completed"
    },
    "tags": []
   },
   "outputs": [
    {
     "data": {
      "text/html": [
       "<div>\n",
       "<style scoped>\n",
       "    .dataframe tbody tr th:only-of-type {\n",
       "        vertical-align: middle;\n",
       "    }\n",
       "\n",
       "    .dataframe tbody tr th {\n",
       "        vertical-align: top;\n",
       "    }\n",
       "\n",
       "    .dataframe thead th {\n",
       "        text-align: right;\n",
       "    }\n",
       "</style>\n",
       "<table border=\"1\" class=\"dataframe\">\n",
       "  <thead>\n",
       "    <tr style=\"text-align: right;\">\n",
       "      <th></th>\n",
       "      <th>ST_Slope_Flat</th>\n",
       "      <th>ST_Slope_Up</th>\n",
       "    </tr>\n",
       "  </thead>\n",
       "  <tbody>\n",
       "    <tr>\n",
       "      <th>0</th>\n",
       "      <td>0</td>\n",
       "      <td>1</td>\n",
       "    </tr>\n",
       "    <tr>\n",
       "      <th>1</th>\n",
       "      <td>1</td>\n",
       "      <td>0</td>\n",
       "    </tr>\n",
       "    <tr>\n",
       "      <th>2</th>\n",
       "      <td>0</td>\n",
       "      <td>1</td>\n",
       "    </tr>\n",
       "    <tr>\n",
       "      <th>3</th>\n",
       "      <td>1</td>\n",
       "      <td>0</td>\n",
       "    </tr>\n",
       "    <tr>\n",
       "      <th>4</th>\n",
       "      <td>0</td>\n",
       "      <td>1</td>\n",
       "    </tr>\n",
       "  </tbody>\n",
       "</table>\n",
       "</div>"
      ],
      "text/plain": [
       "   ST_Slope_Flat  ST_Slope_Up\n",
       "0              0            1\n",
       "1              1            0\n",
       "2              0            1\n",
       "3              1            0\n",
       "4              0            1"
      ]
     },
     "execution_count": 24,
     "metadata": {},
     "output_type": "execute_result"
    }
   ],
   "source": [
    "ST_Slope=pd.get_dummies(train['ST_Slope'],prefix = 'ST_Slope',drop_first = True).astype(int)\n",
    "ST_Slope.head()"
   ]
  },
  {
   "cell_type": "code",
   "execution_count": 25,
   "id": "fc63eebf",
   "metadata": {
    "execution": {
     "iopub.execute_input": "2024-03-08T10:03:58.491146Z",
     "iopub.status.busy": "2024-03-08T10:03:58.490695Z",
     "iopub.status.idle": "2024-03-08T10:03:58.504408Z",
     "shell.execute_reply": "2024-03-08T10:03:58.502996Z"
    },
    "papermill": {
     "duration": 0.039486,
     "end_time": "2024-03-08T10:03:58.507057",
     "exception": false,
     "start_time": "2024-03-08T10:03:58.467571",
     "status": "completed"
    },
    "tags": []
   },
   "outputs": [
    {
     "data": {
      "text/html": [
       "<div>\n",
       "<style scoped>\n",
       "    .dataframe tbody tr th:only-of-type {\n",
       "        vertical-align: middle;\n",
       "    }\n",
       "\n",
       "    .dataframe tbody tr th {\n",
       "        vertical-align: top;\n",
       "    }\n",
       "\n",
       "    .dataframe thead th {\n",
       "        text-align: right;\n",
       "    }\n",
       "</style>\n",
       "<table border=\"1\" class=\"dataframe\">\n",
       "  <thead>\n",
       "    <tr style=\"text-align: right;\">\n",
       "      <th></th>\n",
       "      <th>ChestPainType_ATA</th>\n",
       "      <th>ChestPainType_NAP</th>\n",
       "      <th>ChestPainType_TA</th>\n",
       "    </tr>\n",
       "  </thead>\n",
       "  <tbody>\n",
       "    <tr>\n",
       "      <th>0</th>\n",
       "      <td>1</td>\n",
       "      <td>0</td>\n",
       "      <td>0</td>\n",
       "    </tr>\n",
       "    <tr>\n",
       "      <th>1</th>\n",
       "      <td>0</td>\n",
       "      <td>1</td>\n",
       "      <td>0</td>\n",
       "    </tr>\n",
       "    <tr>\n",
       "      <th>2</th>\n",
       "      <td>1</td>\n",
       "      <td>0</td>\n",
       "      <td>0</td>\n",
       "    </tr>\n",
       "    <tr>\n",
       "      <th>3</th>\n",
       "      <td>0</td>\n",
       "      <td>0</td>\n",
       "      <td>0</td>\n",
       "    </tr>\n",
       "    <tr>\n",
       "      <th>4</th>\n",
       "      <td>0</td>\n",
       "      <td>1</td>\n",
       "      <td>0</td>\n",
       "    </tr>\n",
       "  </tbody>\n",
       "</table>\n",
       "</div>"
      ],
      "text/plain": [
       "   ChestPainType_ATA  ChestPainType_NAP  ChestPainType_TA\n",
       "0                  1                  0                 0\n",
       "1                  0                  1                 0\n",
       "2                  1                  0                 0\n",
       "3                  0                  0                 0\n",
       "4                  0                  1                 0"
      ]
     },
     "execution_count": 25,
     "metadata": {},
     "output_type": "execute_result"
    }
   ],
   "source": [
    "ChestPainType=pd.get_dummies(train['ChestPainType'],prefix = 'ChestPainType',drop_first = True).astype(int)\n",
    "ChestPainType.head()"
   ]
  },
  {
   "cell_type": "code",
   "execution_count": 26,
   "id": "3246e4d4",
   "metadata": {
    "execution": {
     "iopub.execute_input": "2024-03-08T10:03:58.551487Z",
     "iopub.status.busy": "2024-03-08T10:03:58.551079Z",
     "iopub.status.idle": "2024-03-08T10:03:58.556217Z",
     "shell.execute_reply": "2024-03-08T10:03:58.554722Z"
    },
    "papermill": {
     "duration": 0.030268,
     "end_time": "2024-03-08T10:03:58.558657",
     "exception": false,
     "start_time": "2024-03-08T10:03:58.528389",
     "status": "completed"
    },
    "tags": []
   },
   "outputs": [],
   "source": [
    "# train1 = pd.concat([train,])"
   ]
  },
  {
   "cell_type": "code",
   "execution_count": 27,
   "id": "b19e207f",
   "metadata": {
    "execution": {
     "iopub.execute_input": "2024-03-08T10:03:58.663041Z",
     "iopub.status.busy": "2024-03-08T10:03:58.662586Z",
     "iopub.status.idle": "2024-03-08T10:03:58.681298Z",
     "shell.execute_reply": "2024-03-08T10:03:58.679914Z"
    },
    "papermill": {
     "duration": 0.044394,
     "end_time": "2024-03-08T10:03:58.683829",
     "exception": false,
     "start_time": "2024-03-08T10:03:58.639435",
     "status": "completed"
    },
    "tags": []
   },
   "outputs": [
    {
     "data": {
      "text/html": [
       "<div>\n",
       "<style scoped>\n",
       "    .dataframe tbody tr th:only-of-type {\n",
       "        vertical-align: middle;\n",
       "    }\n",
       "\n",
       "    .dataframe tbody tr th {\n",
       "        vertical-align: top;\n",
       "    }\n",
       "\n",
       "    .dataframe thead th {\n",
       "        text-align: right;\n",
       "    }\n",
       "</style>\n",
       "<table border=\"1\" class=\"dataframe\">\n",
       "  <thead>\n",
       "    <tr style=\"text-align: right;\">\n",
       "      <th></th>\n",
       "      <th>Age</th>\n",
       "      <th>Sex</th>\n",
       "      <th>RestingBP</th>\n",
       "      <th>Cholesterol</th>\n",
       "      <th>FastingBS</th>\n",
       "      <th>MaxHR</th>\n",
       "      <th>ExerciseAngina</th>\n",
       "      <th>Oldpeak</th>\n",
       "      <th>HeartDisease</th>\n",
       "    </tr>\n",
       "  </thead>\n",
       "  <tbody>\n",
       "    <tr>\n",
       "      <th>0</th>\n",
       "      <td>40</td>\n",
       "      <td>1</td>\n",
       "      <td>140</td>\n",
       "      <td>289</td>\n",
       "      <td>0</td>\n",
       "      <td>172</td>\n",
       "      <td>0</td>\n",
       "      <td>0.0</td>\n",
       "      <td>0</td>\n",
       "    </tr>\n",
       "    <tr>\n",
       "      <th>1</th>\n",
       "      <td>49</td>\n",
       "      <td>0</td>\n",
       "      <td>160</td>\n",
       "      <td>180</td>\n",
       "      <td>0</td>\n",
       "      <td>156</td>\n",
       "      <td>0</td>\n",
       "      <td>1.0</td>\n",
       "      <td>1</td>\n",
       "    </tr>\n",
       "    <tr>\n",
       "      <th>2</th>\n",
       "      <td>37</td>\n",
       "      <td>1</td>\n",
       "      <td>130</td>\n",
       "      <td>283</td>\n",
       "      <td>0</td>\n",
       "      <td>98</td>\n",
       "      <td>0</td>\n",
       "      <td>0.0</td>\n",
       "      <td>0</td>\n",
       "    </tr>\n",
       "    <tr>\n",
       "      <th>3</th>\n",
       "      <td>48</td>\n",
       "      <td>0</td>\n",
       "      <td>138</td>\n",
       "      <td>214</td>\n",
       "      <td>0</td>\n",
       "      <td>108</td>\n",
       "      <td>1</td>\n",
       "      <td>1.5</td>\n",
       "      <td>1</td>\n",
       "    </tr>\n",
       "    <tr>\n",
       "      <th>4</th>\n",
       "      <td>54</td>\n",
       "      <td>1</td>\n",
       "      <td>150</td>\n",
       "      <td>195</td>\n",
       "      <td>0</td>\n",
       "      <td>122</td>\n",
       "      <td>0</td>\n",
       "      <td>0.0</td>\n",
       "      <td>0</td>\n",
       "    </tr>\n",
       "  </tbody>\n",
       "</table>\n",
       "</div>"
      ],
      "text/plain": [
       "   Age  Sex  RestingBP  Cholesterol  FastingBS  MaxHR  ExerciseAngina  \\\n",
       "0   40    1        140          289          0    172               0   \n",
       "1   49    0        160          180          0    156               0   \n",
       "2   37    1        130          283          0     98               0   \n",
       "3   48    0        138          214          0    108               1   \n",
       "4   54    1        150          195          0    122               0   \n",
       "\n",
       "   Oldpeak  HeartDisease  \n",
       "0      0.0             0  \n",
       "1      1.0             1  \n",
       "2      0.0             0  \n",
       "3      1.5             1  \n",
       "4      0.0             0  "
      ]
     },
     "execution_count": 27,
     "metadata": {},
     "output_type": "execute_result"
    }
   ],
   "source": [
    "train.drop(['RestingECG','ChestPainType','ST_Slope'],axis = 1,inplace = True)\n",
    "train.head()"
   ]
  },
  {
   "cell_type": "code",
   "execution_count": 28,
   "id": "3e5a6705",
   "metadata": {
    "execution": {
     "iopub.execute_input": "2024-03-08T10:03:58.729410Z",
     "iopub.status.busy": "2024-03-08T10:03:58.728884Z",
     "iopub.status.idle": "2024-03-08T10:03:58.749985Z",
     "shell.execute_reply": "2024-03-08T10:03:58.748793Z"
    },
    "papermill": {
     "duration": 0.046952,
     "end_time": "2024-03-08T10:03:58.752463",
     "exception": false,
     "start_time": "2024-03-08T10:03:58.705511",
     "status": "completed"
    },
    "tags": []
   },
   "outputs": [
    {
     "data": {
      "text/html": [
       "<div>\n",
       "<style scoped>\n",
       "    .dataframe tbody tr th:only-of-type {\n",
       "        vertical-align: middle;\n",
       "    }\n",
       "\n",
       "    .dataframe tbody tr th {\n",
       "        vertical-align: top;\n",
       "    }\n",
       "\n",
       "    .dataframe thead th {\n",
       "        text-align: right;\n",
       "    }\n",
       "</style>\n",
       "<table border=\"1\" class=\"dataframe\">\n",
       "  <thead>\n",
       "    <tr style=\"text-align: right;\">\n",
       "      <th></th>\n",
       "      <th>Age</th>\n",
       "      <th>Sex</th>\n",
       "      <th>RestingBP</th>\n",
       "      <th>Cholesterol</th>\n",
       "      <th>FastingBS</th>\n",
       "      <th>MaxHR</th>\n",
       "      <th>ExerciseAngina</th>\n",
       "      <th>Oldpeak</th>\n",
       "      <th>HeartDisease</th>\n",
       "      <th>ChestPainType_ATA</th>\n",
       "      <th>ChestPainType_NAP</th>\n",
       "      <th>ChestPainType_TA</th>\n",
       "      <th>ST_Slope_Flat</th>\n",
       "      <th>ST_Slope_Up</th>\n",
       "      <th>RestingECG_Normal</th>\n",
       "      <th>RestingECG_ST</th>\n",
       "    </tr>\n",
       "  </thead>\n",
       "  <tbody>\n",
       "    <tr>\n",
       "      <th>0</th>\n",
       "      <td>40</td>\n",
       "      <td>1</td>\n",
       "      <td>140</td>\n",
       "      <td>289</td>\n",
       "      <td>0</td>\n",
       "      <td>172</td>\n",
       "      <td>0</td>\n",
       "      <td>0.0</td>\n",
       "      <td>0</td>\n",
       "      <td>1</td>\n",
       "      <td>0</td>\n",
       "      <td>0</td>\n",
       "      <td>0</td>\n",
       "      <td>1</td>\n",
       "      <td>1</td>\n",
       "      <td>0</td>\n",
       "    </tr>\n",
       "    <tr>\n",
       "      <th>1</th>\n",
       "      <td>49</td>\n",
       "      <td>0</td>\n",
       "      <td>160</td>\n",
       "      <td>180</td>\n",
       "      <td>0</td>\n",
       "      <td>156</td>\n",
       "      <td>0</td>\n",
       "      <td>1.0</td>\n",
       "      <td>1</td>\n",
       "      <td>0</td>\n",
       "      <td>1</td>\n",
       "      <td>0</td>\n",
       "      <td>1</td>\n",
       "      <td>0</td>\n",
       "      <td>1</td>\n",
       "      <td>0</td>\n",
       "    </tr>\n",
       "    <tr>\n",
       "      <th>2</th>\n",
       "      <td>37</td>\n",
       "      <td>1</td>\n",
       "      <td>130</td>\n",
       "      <td>283</td>\n",
       "      <td>0</td>\n",
       "      <td>98</td>\n",
       "      <td>0</td>\n",
       "      <td>0.0</td>\n",
       "      <td>0</td>\n",
       "      <td>1</td>\n",
       "      <td>0</td>\n",
       "      <td>0</td>\n",
       "      <td>0</td>\n",
       "      <td>1</td>\n",
       "      <td>0</td>\n",
       "      <td>1</td>\n",
       "    </tr>\n",
       "    <tr>\n",
       "      <th>3</th>\n",
       "      <td>48</td>\n",
       "      <td>0</td>\n",
       "      <td>138</td>\n",
       "      <td>214</td>\n",
       "      <td>0</td>\n",
       "      <td>108</td>\n",
       "      <td>1</td>\n",
       "      <td>1.5</td>\n",
       "      <td>1</td>\n",
       "      <td>0</td>\n",
       "      <td>0</td>\n",
       "      <td>0</td>\n",
       "      <td>1</td>\n",
       "      <td>0</td>\n",
       "      <td>1</td>\n",
       "      <td>0</td>\n",
       "    </tr>\n",
       "    <tr>\n",
       "      <th>4</th>\n",
       "      <td>54</td>\n",
       "      <td>1</td>\n",
       "      <td>150</td>\n",
       "      <td>195</td>\n",
       "      <td>0</td>\n",
       "      <td>122</td>\n",
       "      <td>0</td>\n",
       "      <td>0.0</td>\n",
       "      <td>0</td>\n",
       "      <td>0</td>\n",
       "      <td>1</td>\n",
       "      <td>0</td>\n",
       "      <td>0</td>\n",
       "      <td>1</td>\n",
       "      <td>1</td>\n",
       "      <td>0</td>\n",
       "    </tr>\n",
       "  </tbody>\n",
       "</table>\n",
       "</div>"
      ],
      "text/plain": [
       "   Age  Sex  RestingBP  Cholesterol  FastingBS  MaxHR  ExerciseAngina  \\\n",
       "0   40    1        140          289          0    172               0   \n",
       "1   49    0        160          180          0    156               0   \n",
       "2   37    1        130          283          0     98               0   \n",
       "3   48    0        138          214          0    108               1   \n",
       "4   54    1        150          195          0    122               0   \n",
       "\n",
       "   Oldpeak  HeartDisease  ChestPainType_ATA  ChestPainType_NAP  \\\n",
       "0      0.0             0                  1                  0   \n",
       "1      1.0             1                  0                  1   \n",
       "2      0.0             0                  1                  0   \n",
       "3      1.5             1                  0                  0   \n",
       "4      0.0             0                  0                  1   \n",
       "\n",
       "   ChestPainType_TA  ST_Slope_Flat  ST_Slope_Up  RestingECG_Normal  \\\n",
       "0                 0              0            1                  1   \n",
       "1                 0              1            0                  1   \n",
       "2                 0              0            1                  0   \n",
       "3                 0              1            0                  1   \n",
       "4                 0              0            1                  1   \n",
       "\n",
       "   RestingECG_ST  \n",
       "0              0  \n",
       "1              0  \n",
       "2              1  \n",
       "3              0  \n",
       "4              0  "
      ]
     },
     "execution_count": 28,
     "metadata": {},
     "output_type": "execute_result"
    }
   ],
   "source": [
    "df11 = pd.concat([train,ChestPainType,ST_Slope,restingecg],axis=1)\n",
    "df11.head()"
   ]
  },
  {
   "cell_type": "code",
   "execution_count": 29,
   "id": "228f61a1",
   "metadata": {
    "execution": {
     "iopub.execute_input": "2024-03-08T10:03:58.798661Z",
     "iopub.status.busy": "2024-03-08T10:03:58.798248Z",
     "iopub.status.idle": "2024-03-08T10:03:58.816807Z",
     "shell.execute_reply": "2024-03-08T10:03:58.815459Z"
    },
    "papermill": {
     "duration": 0.044896,
     "end_time": "2024-03-08T10:03:58.819309",
     "exception": false,
     "start_time": "2024-03-08T10:03:58.774413",
     "status": "completed"
    },
    "tags": []
   },
   "outputs": [
    {
     "data": {
      "text/html": [
       "<div>\n",
       "<style scoped>\n",
       "    .dataframe tbody tr th:only-of-type {\n",
       "        vertical-align: middle;\n",
       "    }\n",
       "\n",
       "    .dataframe tbody tr th {\n",
       "        vertical-align: top;\n",
       "    }\n",
       "\n",
       "    .dataframe thead th {\n",
       "        text-align: right;\n",
       "    }\n",
       "</style>\n",
       "<table border=\"1\" class=\"dataframe\">\n",
       "  <thead>\n",
       "    <tr style=\"text-align: right;\">\n",
       "      <th></th>\n",
       "      <th>Age</th>\n",
       "      <th>Sex</th>\n",
       "      <th>RestingBP</th>\n",
       "      <th>Cholesterol</th>\n",
       "      <th>FastingBS</th>\n",
       "      <th>MaxHR</th>\n",
       "      <th>ExerciseAngina</th>\n",
       "      <th>Oldpeak</th>\n",
       "      <th>ChestPainType_ATA</th>\n",
       "      <th>ChestPainType_NAP</th>\n",
       "      <th>ChestPainType_TA</th>\n",
       "      <th>ST_Slope_Flat</th>\n",
       "      <th>ST_Slope_Up</th>\n",
       "      <th>RestingECG_Normal</th>\n",
       "      <th>RestingECG_ST</th>\n",
       "    </tr>\n",
       "  </thead>\n",
       "  <tbody>\n",
       "    <tr>\n",
       "      <th>0</th>\n",
       "      <td>40</td>\n",
       "      <td>1</td>\n",
       "      <td>140</td>\n",
       "      <td>289</td>\n",
       "      <td>0</td>\n",
       "      <td>172</td>\n",
       "      <td>0</td>\n",
       "      <td>0.0</td>\n",
       "      <td>1</td>\n",
       "      <td>0</td>\n",
       "      <td>0</td>\n",
       "      <td>0</td>\n",
       "      <td>1</td>\n",
       "      <td>1</td>\n",
       "      <td>0</td>\n",
       "    </tr>\n",
       "    <tr>\n",
       "      <th>1</th>\n",
       "      <td>49</td>\n",
       "      <td>0</td>\n",
       "      <td>160</td>\n",
       "      <td>180</td>\n",
       "      <td>0</td>\n",
       "      <td>156</td>\n",
       "      <td>0</td>\n",
       "      <td>1.0</td>\n",
       "      <td>0</td>\n",
       "      <td>1</td>\n",
       "      <td>0</td>\n",
       "      <td>1</td>\n",
       "      <td>0</td>\n",
       "      <td>1</td>\n",
       "      <td>0</td>\n",
       "    </tr>\n",
       "    <tr>\n",
       "      <th>2</th>\n",
       "      <td>37</td>\n",
       "      <td>1</td>\n",
       "      <td>130</td>\n",
       "      <td>283</td>\n",
       "      <td>0</td>\n",
       "      <td>98</td>\n",
       "      <td>0</td>\n",
       "      <td>0.0</td>\n",
       "      <td>1</td>\n",
       "      <td>0</td>\n",
       "      <td>0</td>\n",
       "      <td>0</td>\n",
       "      <td>1</td>\n",
       "      <td>0</td>\n",
       "      <td>1</td>\n",
       "    </tr>\n",
       "    <tr>\n",
       "      <th>3</th>\n",
       "      <td>48</td>\n",
       "      <td>0</td>\n",
       "      <td>138</td>\n",
       "      <td>214</td>\n",
       "      <td>0</td>\n",
       "      <td>108</td>\n",
       "      <td>1</td>\n",
       "      <td>1.5</td>\n",
       "      <td>0</td>\n",
       "      <td>0</td>\n",
       "      <td>0</td>\n",
       "      <td>1</td>\n",
       "      <td>0</td>\n",
       "      <td>1</td>\n",
       "      <td>0</td>\n",
       "    </tr>\n",
       "    <tr>\n",
       "      <th>4</th>\n",
       "      <td>54</td>\n",
       "      <td>1</td>\n",
       "      <td>150</td>\n",
       "      <td>195</td>\n",
       "      <td>0</td>\n",
       "      <td>122</td>\n",
       "      <td>0</td>\n",
       "      <td>0.0</td>\n",
       "      <td>0</td>\n",
       "      <td>1</td>\n",
       "      <td>0</td>\n",
       "      <td>0</td>\n",
       "      <td>1</td>\n",
       "      <td>1</td>\n",
       "      <td>0</td>\n",
       "    </tr>\n",
       "  </tbody>\n",
       "</table>\n",
       "</div>"
      ],
      "text/plain": [
       "   Age  Sex  RestingBP  Cholesterol  FastingBS  MaxHR  ExerciseAngina  \\\n",
       "0   40    1        140          289          0    172               0   \n",
       "1   49    0        160          180          0    156               0   \n",
       "2   37    1        130          283          0     98               0   \n",
       "3   48    0        138          214          0    108               1   \n",
       "4   54    1        150          195          0    122               0   \n",
       "\n",
       "   Oldpeak  ChestPainType_ATA  ChestPainType_NAP  ChestPainType_TA  \\\n",
       "0      0.0                  1                  0                 0   \n",
       "1      1.0                  0                  1                 0   \n",
       "2      0.0                  1                  0                 0   \n",
       "3      1.5                  0                  0                 0   \n",
       "4      0.0                  0                  1                 0   \n",
       "\n",
       "   ST_Slope_Flat  ST_Slope_Up  RestingECG_Normal  RestingECG_ST  \n",
       "0              0            1                  1              0  \n",
       "1              1            0                  1              0  \n",
       "2              0            1                  0              1  \n",
       "3              1            0                  1              0  \n",
       "4              0            1                  1              0  "
      ]
     },
     "execution_count": 29,
     "metadata": {},
     "output_type": "execute_result"
    }
   ],
   "source": [
    "X = df11.drop(['HeartDisease'],axis = 1)\n",
    "y = df11['HeartDisease']\n",
    "X.head()"
   ]
  },
  {
   "cell_type": "code",
   "execution_count": 30,
   "id": "39a27c34",
   "metadata": {
    "execution": {
     "iopub.execute_input": "2024-03-08T10:03:58.868058Z",
     "iopub.status.busy": "2024-03-08T10:03:58.867601Z",
     "iopub.status.idle": "2024-03-08T10:03:58.879284Z",
     "shell.execute_reply": "2024-03-08T10:03:58.877825Z"
    },
    "papermill": {
     "duration": 0.03827,
     "end_time": "2024-03-08T10:03:58.882096",
     "exception": false,
     "start_time": "2024-03-08T10:03:58.843826",
     "status": "completed"
    },
    "tags": []
   },
   "outputs": [],
   "source": [
    "##spliting the dataset\n",
    "X_train,X_test,y_train,y_test = train_test_split(X,y,test_size = 0.20,random_state = 42,stratify = y)"
   ]
  },
  {
   "cell_type": "code",
   "execution_count": 31,
   "id": "01d2ce02",
   "metadata": {
    "execution": {
     "iopub.execute_input": "2024-03-08T10:03:58.929039Z",
     "iopub.status.busy": "2024-03-08T10:03:58.928569Z",
     "iopub.status.idle": "2024-03-08T10:03:58.943425Z",
     "shell.execute_reply": "2024-03-08T10:03:58.942389Z"
    },
    "papermill": {
     "duration": 0.041415,
     "end_time": "2024-03-08T10:03:58.946216",
     "exception": false,
     "start_time": "2024-03-08T10:03:58.904801",
     "status": "completed"
    },
    "tags": []
   },
   "outputs": [],
   "source": [
    "scaler = StandardScaler()\n",
    "X_train_scaled = pd.DataFrame(scaler.fit_transform(X_train),columns = X_train.columns)\n",
    "X_test_scaled = pd.DataFrame(scaler.transform(X_test),columns = X_test.columns)"
   ]
  },
  {
   "cell_type": "code",
   "execution_count": 32,
   "id": "3d267e94",
   "metadata": {
    "execution": {
     "iopub.execute_input": "2024-03-08T10:03:58.995266Z",
     "iopub.status.busy": "2024-03-08T10:03:58.994079Z",
     "iopub.status.idle": "2024-03-08T10:03:59.014076Z",
     "shell.execute_reply": "2024-03-08T10:03:59.012868Z"
    },
    "papermill": {
     "duration": 0.047731,
     "end_time": "2024-03-08T10:03:59.016951",
     "exception": false,
     "start_time": "2024-03-08T10:03:58.969220",
     "status": "completed"
    },
    "tags": []
   },
   "outputs": [
    {
     "data": {
      "text/html": [
       "<style>#sk-container-id-1 {color: black;background-color: white;}#sk-container-id-1 pre{padding: 0;}#sk-container-id-1 div.sk-toggleable {background-color: white;}#sk-container-id-1 label.sk-toggleable__label {cursor: pointer;display: block;width: 100%;margin-bottom: 0;padding: 0.3em;box-sizing: border-box;text-align: center;}#sk-container-id-1 label.sk-toggleable__label-arrow:before {content: \"▸\";float: left;margin-right: 0.25em;color: #696969;}#sk-container-id-1 label.sk-toggleable__label-arrow:hover:before {color: black;}#sk-container-id-1 div.sk-estimator:hover label.sk-toggleable__label-arrow:before {color: black;}#sk-container-id-1 div.sk-toggleable__content {max-height: 0;max-width: 0;overflow: hidden;text-align: left;background-color: #f0f8ff;}#sk-container-id-1 div.sk-toggleable__content pre {margin: 0.2em;color: black;border-radius: 0.25em;background-color: #f0f8ff;}#sk-container-id-1 input.sk-toggleable__control:checked~div.sk-toggleable__content {max-height: 200px;max-width: 100%;overflow: auto;}#sk-container-id-1 input.sk-toggleable__control:checked~label.sk-toggleable__label-arrow:before {content: \"▾\";}#sk-container-id-1 div.sk-estimator input.sk-toggleable__control:checked~label.sk-toggleable__label {background-color: #d4ebff;}#sk-container-id-1 div.sk-label input.sk-toggleable__control:checked~label.sk-toggleable__label {background-color: #d4ebff;}#sk-container-id-1 input.sk-hidden--visually {border: 0;clip: rect(1px 1px 1px 1px);clip: rect(1px, 1px, 1px, 1px);height: 1px;margin: -1px;overflow: hidden;padding: 0;position: absolute;width: 1px;}#sk-container-id-1 div.sk-estimator {font-family: monospace;background-color: #f0f8ff;border: 1px dotted black;border-radius: 0.25em;box-sizing: border-box;margin-bottom: 0.5em;}#sk-container-id-1 div.sk-estimator:hover {background-color: #d4ebff;}#sk-container-id-1 div.sk-parallel-item::after {content: \"\";width: 100%;border-bottom: 1px solid gray;flex-grow: 1;}#sk-container-id-1 div.sk-label:hover label.sk-toggleable__label {background-color: #d4ebff;}#sk-container-id-1 div.sk-serial::before {content: \"\";position: absolute;border-left: 1px solid gray;box-sizing: border-box;top: 0;bottom: 0;left: 50%;z-index: 0;}#sk-container-id-1 div.sk-serial {display: flex;flex-direction: column;align-items: center;background-color: white;padding-right: 0.2em;padding-left: 0.2em;position: relative;}#sk-container-id-1 div.sk-item {position: relative;z-index: 1;}#sk-container-id-1 div.sk-parallel {display: flex;align-items: stretch;justify-content: center;background-color: white;position: relative;}#sk-container-id-1 div.sk-item::before, #sk-container-id-1 div.sk-parallel-item::before {content: \"\";position: absolute;border-left: 1px solid gray;box-sizing: border-box;top: 0;bottom: 0;left: 50%;z-index: -1;}#sk-container-id-1 div.sk-parallel-item {display: flex;flex-direction: column;z-index: 1;position: relative;background-color: white;}#sk-container-id-1 div.sk-parallel-item:first-child::after {align-self: flex-end;width: 50%;}#sk-container-id-1 div.sk-parallel-item:last-child::after {align-self: flex-start;width: 50%;}#sk-container-id-1 div.sk-parallel-item:only-child::after {width: 0;}#sk-container-id-1 div.sk-dashed-wrapped {border: 1px dashed gray;margin: 0 0.4em 0.5em 0.4em;box-sizing: border-box;padding-bottom: 0.4em;background-color: white;}#sk-container-id-1 div.sk-label label {font-family: monospace;font-weight: bold;display: inline-block;line-height: 1.2em;}#sk-container-id-1 div.sk-label-container {text-align: center;}#sk-container-id-1 div.sk-container {/* jupyter's `normalize.less` sets `[hidden] { display: none; }` but bootstrap.min.css set `[hidden] { display: none !important; }` so we also need the `!important` here to be able to override the default hidden behavior on the sphinx rendered scikit-learn.org. See: https://github.com/scikit-learn/scikit-learn/issues/21755 */display: inline-block !important;position: relative;}#sk-container-id-1 div.sk-text-repr-fallback {display: none;}</style><div id=\"sk-container-id-1\" class=\"sk-top-container\"><div class=\"sk-text-repr-fallback\"><pre>DecisionTreeClassifier(random_state=42)</pre><b>In a Jupyter environment, please rerun this cell to show the HTML representation or trust the notebook. <br />On GitHub, the HTML representation is unable to render, please try loading this page with nbviewer.org.</b></div><div class=\"sk-container\" hidden><div class=\"sk-item\"><div class=\"sk-estimator sk-toggleable\"><input class=\"sk-toggleable__control sk-hidden--visually\" id=\"sk-estimator-id-1\" type=\"checkbox\" checked><label for=\"sk-estimator-id-1\" class=\"sk-toggleable__label sk-toggleable__label-arrow\">DecisionTreeClassifier</label><div class=\"sk-toggleable__content\"><pre>DecisionTreeClassifier(random_state=42)</pre></div></div></div></div></div>"
      ],
      "text/plain": [
       "DecisionTreeClassifier(random_state=42)"
      ]
     },
     "execution_count": 32,
     "metadata": {},
     "output_type": "execute_result"
    }
   ],
   "source": [
    "##initializing the Decision Tree\n",
    "\n",
    "dtree = DecisionTreeClassifier(random_state = 42)\n",
    "\n",
    "#fitting the model\n",
    "\n",
    "dtree.fit(X_train_scaled,y_train)"
   ]
  },
  {
   "cell_type": "code",
   "execution_count": 33,
   "id": "c9484ce9",
   "metadata": {
    "execution": {
     "iopub.execute_input": "2024-03-08T10:03:59.068234Z",
     "iopub.status.busy": "2024-03-08T10:03:59.066874Z",
     "iopub.status.idle": "2024-03-08T10:03:59.077931Z",
     "shell.execute_reply": "2024-03-08T10:03:59.076792Z"
    },
    "papermill": {
     "duration": 0.039105,
     "end_time": "2024-03-08T10:03:59.080383",
     "exception": false,
     "start_time": "2024-03-08T10:03:59.041278",
     "status": "completed"
    },
    "tags": []
   },
   "outputs": [
    {
     "data": {
      "text/plain": [
       "array([1, 0, 0, 0, 0, 0, 0, 1, 0, 0, 0, 0, 0, 0, 0, 1, 0, 0, 0, 1, 0, 0,\n",
       "       0, 0, 0, 1, 0, 0, 1, 0, 0, 0, 0, 0, 0, 0, 0, 0, 0, 0, 1, 0, 1, 0,\n",
       "       0, 0, 1, 0, 0, 0, 1, 0, 0, 0, 0, 0, 0, 0, 0, 0, 0, 0, 0, 1, 0, 1,\n",
       "       1, 1, 0, 0, 0, 0, 0, 0, 0, 1, 0, 0, 0, 0, 1, 0, 0, 1, 0, 0, 0, 1,\n",
       "       0, 1, 0, 0, 0, 0, 1, 0, 1, 0, 0, 0, 1, 1, 0, 0, 0, 1, 0, 0, 0, 0,\n",
       "       1, 0, 1, 0, 1, 0, 1, 0, 0, 0, 0, 1, 0, 0, 0, 0, 0, 0, 0, 0, 0, 0,\n",
       "       0, 0, 0, 0, 1, 0, 0, 0, 1, 0, 0, 1, 0, 0, 0, 0, 0, 1, 0, 0, 0, 0,\n",
       "       0, 1, 0, 0, 1, 0, 1, 0, 0, 0, 1, 0, 0, 0, 0, 0, 0, 0, 0, 0, 0, 1,\n",
       "       0, 0, 0, 0, 0, 1, 0, 1])"
      ]
     },
     "execution_count": 33,
     "metadata": {},
     "output_type": "execute_result"
    }
   ],
   "source": [
    "#predicting the dataset\n",
    "y_pred = dtree.predict(X_test)\n",
    "y_pred"
   ]
  },
  {
   "cell_type": "code",
   "execution_count": 34,
   "id": "9197772d",
   "metadata": {
    "execution": {
     "iopub.execute_input": "2024-03-08T10:03:59.134400Z",
     "iopub.status.busy": "2024-03-08T10:03:59.132985Z",
     "iopub.status.idle": "2024-03-08T10:03:59.148944Z",
     "shell.execute_reply": "2024-03-08T10:03:59.147737Z"
    },
    "papermill": {
     "duration": 0.047014,
     "end_time": "2024-03-08T10:03:59.151651",
     "exception": false,
     "start_time": "2024-03-08T10:03:59.104637",
     "status": "completed"
    },
    "tags": []
   },
   "outputs": [
    {
     "name": "stdout",
     "output_type": "stream",
     "text": [
      "              precision    recall  f1-score   support\n",
      "\n",
      "           0       0.53      0.93      0.67        82\n",
      "           1       0.85      0.33      0.48       102\n",
      "\n",
      "    accuracy                           0.60       184\n",
      "   macro avg       0.69      0.63      0.58       184\n",
      "weighted avg       0.71      0.60      0.57       184\n",
      "\n"
     ]
    }
   ],
   "source": [
    "result = classification_report(y_test,y_pred)\n",
    "print(result)\n"
   ]
  },
  {
   "cell_type": "code",
   "execution_count": 35,
   "id": "4d4737ab",
   "metadata": {
    "execution": {
     "iopub.execute_input": "2024-03-08T10:03:59.204159Z",
     "iopub.status.busy": "2024-03-08T10:03:59.202744Z",
     "iopub.status.idle": "2024-03-08T10:03:59.212594Z",
     "shell.execute_reply": "2024-03-08T10:03:59.211756Z"
    },
    "papermill": {
     "duration": 0.038026,
     "end_time": "2024-03-08T10:03:59.215047",
     "exception": false,
     "start_time": "2024-03-08T10:03:59.177021",
     "status": "completed"
    },
    "tags": []
   },
   "outputs": [
    {
     "data": {
      "text/html": [
       "<div>\n",
       "<style scoped>\n",
       "    .dataframe tbody tr th:only-of-type {\n",
       "        vertical-align: middle;\n",
       "    }\n",
       "\n",
       "    .dataframe tbody tr th {\n",
       "        vertical-align: top;\n",
       "    }\n",
       "\n",
       "    .dataframe thead th {\n",
       "        text-align: right;\n",
       "    }\n",
       "</style>\n",
       "<table border=\"1\" class=\"dataframe\">\n",
       "  <thead>\n",
       "    <tr style=\"text-align: right;\">\n",
       "      <th></th>\n",
       "      <th>y_pred</th>\n",
       "    </tr>\n",
       "  </thead>\n",
       "  <tbody>\n",
       "    <tr>\n",
       "      <th>0</th>\n",
       "      <td>1</td>\n",
       "    </tr>\n",
       "    <tr>\n",
       "      <th>1</th>\n",
       "      <td>0</td>\n",
       "    </tr>\n",
       "    <tr>\n",
       "      <th>2</th>\n",
       "      <td>0</td>\n",
       "    </tr>\n",
       "    <tr>\n",
       "      <th>3</th>\n",
       "      <td>0</td>\n",
       "    </tr>\n",
       "    <tr>\n",
       "      <th>4</th>\n",
       "      <td>0</td>\n",
       "    </tr>\n",
       "  </tbody>\n",
       "</table>\n",
       "</div>"
      ],
      "text/plain": [
       "   y_pred\n",
       "0       1\n",
       "1       0\n",
       "2       0\n",
       "3       0\n",
       "4       0"
      ]
     },
     "execution_count": 35,
     "metadata": {},
     "output_type": "execute_result"
    }
   ],
   "source": [
    "y_pred = pd.DataFrame(y_pred,columns = ['y_pred'])\n",
    "y_pred.head()"
   ]
  }
 ],
 "metadata": {
  "kaggle": {
   "accelerator": "none",
   "dataSources": [
    {
     "datasetId": 1582403,
     "sourceId": 2603715,
     "sourceType": "datasetVersion"
    }
   ],
   "dockerImageVersionId": 30664,
   "isGpuEnabled": false,
   "isInternetEnabled": true,
   "language": "python",
   "sourceType": "notebook"
  },
  "kernelspec": {
   "display_name": "Python 3",
   "language": "python",
   "name": "python3"
  },
  "language_info": {
   "codemirror_mode": {
    "name": "ipython",
    "version": 3
   },
   "file_extension": ".py",
   "mimetype": "text/x-python",
   "name": "python",
   "nbconvert_exporter": "python",
   "pygments_lexer": "ipython3",
   "version": "3.10.13"
  },
  "papermill": {
   "default_parameters": {},
   "duration": 13.426451,
   "end_time": "2024-03-08T10:04:00.264703",
   "environment_variables": {},
   "exception": null,
   "input_path": "__notebook__.ipynb",
   "output_path": "__notebook__.ipynb",
   "parameters": {},
   "start_time": "2024-03-08T10:03:46.838252",
   "version": "2.5.0"
  }
 },
 "nbformat": 4,
 "nbformat_minor": 5
}
